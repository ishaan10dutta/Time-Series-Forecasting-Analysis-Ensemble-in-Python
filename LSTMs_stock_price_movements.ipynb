{
  "nbformat": 4,
  "nbformat_minor": 0,
  "metadata": {
    "colab": {
      "name": "LSTMs_stock_price_movements.ipynb",
      "provenance": [],
      "collapsed_sections": [],
      "authorship_tag": "ABX9TyMzI8BZgGHGt8GqWjwKIrPq",
      "include_colab_link": true
    },
    "kernelspec": {
      "name": "python3",
      "display_name": "Python 3"
    }
  },
  "cells": [
    {
      "cell_type": "markdown",
      "metadata": {
        "id": "view-in-github",
        "colab_type": "text"
      },
      "source": [
        "<a href=\"https://colab.research.google.com/github/ishaan10dutta/Time-Series-Forecasting-Analysis-Ensemble-in-Python/blob/master/LSTMs_stock_price_movements.ipynb\" target=\"_parent\"><img src=\"https://colab.research.google.com/assets/colab-badge.svg\" alt=\"Open In Colab\"/></a>"
      ]
    },
    {
      "cell_type": "markdown",
      "metadata": {
        "id": "SsTzeFufIJrK",
        "colab_type": "text"
      },
      "source": [
        "##LSTMs for Time Series Forecasting"
      ]
    },
    {
      "cell_type": "markdown",
      "metadata": {
        "id": "WFAlGew5IhfD",
        "colab_type": "text"
      },
      "source": [
        "As per my previous notebook, where I used statistical models like ARIMA, as well as Fourier Transform, both of which performed well in their predictions.\n",
        "\n",
        "However, for the vanilla LSTM network for 1 feature and 5 features, the model performed poorly, and relied on the Stock OHLC values.\n",
        "\n",
        "I decided to predict the stock price movements, rather than simply plugging in the stock prices.\n",
        "\n",
        "The plan is to normalize only the closing prices and then break it into train and test datasets. \n",
        "\n",
        "I will keep a simple lookback window to give all similar data same movement(movement is just giving the data points the same kind of normalization) and put them in price points as input."
      ]
    },
    {
      "cell_type": "markdown",
      "metadata": {
        "id": "FkGPNmx0Jlpj",
        "colab_type": "text"
      },
      "source": [
        "##Setting up"
      ]
    },
    {
      "cell_type": "code",
      "metadata": {
        "id": "T_uO5k-yJS-z",
        "colab_type": "code",
        "colab": {}
      },
      "source": [
        "!pip install -U -q PyDrive\n",
        "from pydrive.auth import GoogleAuth\n",
        "from pydrive.drive import GoogleDrive\n",
        "from google.colab import auth\n",
        "from oauth2client.client import GoogleCredentials\n",
        "# Authenticate and create the PyDrive client.\n",
        "auth.authenticate_user()\n",
        "gauth = GoogleAuth()\n",
        "gauth.credentials = GoogleCredentials.get_application_default()\n",
        "drive = GoogleDrive(gauth)"
      ],
      "execution_count": 1,
      "outputs": []
    },
    {
      "cell_type": "code",
      "metadata": {
        "id": "84FbrXKVJk1X",
        "colab_type": "code",
        "colab": {}
      },
      "source": [
        "link = 'https://drive.google.com/open?id=1Qq9A3hV-x7D4R9lDG178_z0VeEj7c9Gi'\n",
        "fluff, id = link.split('=')\n",
        "\n",
        "import numpy as np\n",
        "import pandas as pd\n",
        "downloaded = drive.CreateFile({'id':id}) \n",
        "downloaded.GetContentFile('AMZN.csv')"
      ],
      "execution_count": 12,
      "outputs": []
    },
    {
      "cell_type": "markdown",
      "metadata": {
        "id": "vatkq869KLeh",
        "colab_type": "text"
      },
      "source": [
        "##Loading the dataset"
      ]
    },
    {
      "cell_type": "code",
      "metadata": {
        "id": "6C2hTl_aL2hQ",
        "colab_type": "code",
        "colab": {}
      },
      "source": [
        "import datetime\n",
        "def parser(x):\n",
        "    return datetime.datetime.strptime(x,'%m/%d/%Y')\n",
        "\n",
        "data = pd.read_csv(\"AMZN.csv\", header=0, parse_dates=[0], date_parser=parser)"
      ],
      "execution_count": 22,
      "outputs": []
    },
    {
      "cell_type": "code",
      "metadata": {
        "id": "HavWipTJKN9o",
        "colab_type": "code",
        "colab": {
          "base_uri": "https://localhost:8080/",
          "height": 226
        },
        "outputId": "2d74249a-8af7-4dff-9b7e-390e73e23c35"
      },
      "source": [
        "data.head(5)"
      ],
      "execution_count": 23,
      "outputs": [
        {
          "output_type": "execute_result",
          "data": {
            "text/html": [
              "<div>\n",
              "<style scoped>\n",
              "    .dataframe tbody tr th:only-of-type {\n",
              "        vertical-align: middle;\n",
              "    }\n",
              "\n",
              "    .dataframe tbody tr th {\n",
              "        vertical-align: top;\n",
              "    }\n",
              "\n",
              "    .dataframe thead th {\n",
              "        text-align: right;\n",
              "    }\n",
              "</style>\n",
              "<table border=\"1\" class=\"dataframe\">\n",
              "  <thead>\n",
              "    <tr style=\"text-align: right;\">\n",
              "      <th></th>\n",
              "      <th>Date</th>\n",
              "      <th>Open</th>\n",
              "      <th>High</th>\n",
              "      <th>Low</th>\n",
              "      <th>Adj Close</th>\n",
              "      <th>Volume</th>\n",
              "      <th>ma7</th>\n",
              "      <th>ma21</th>\n",
              "      <th>26ema</th>\n",
              "      <th>12ema</th>\n",
              "      <th>MACD</th>\n",
              "      <th>20sd</th>\n",
              "      <th>upper_band</th>\n",
              "      <th>lower_band</th>\n",
              "      <th>ema</th>\n",
              "      <th>momentum</th>\n",
              "      <th>Fourier</th>\n",
              "      <th>ARIMA</th>\n",
              "      <th>Close</th>\n",
              "      <th>labels</th>\n",
              "    </tr>\n",
              "  </thead>\n",
              "  <tbody>\n",
              "    <tr>\n",
              "      <th>0</th>\n",
              "      <td>2010-01-04</td>\n",
              "      <td>136.250000</td>\n",
              "      <td>136.610001</td>\n",
              "      <td>133.139999</td>\n",
              "      <td>133.899994</td>\n",
              "      <td>7599900</td>\n",
              "      <td>NaN</td>\n",
              "      <td>NaN</td>\n",
              "      <td>NaN</td>\n",
              "      <td>NaN</td>\n",
              "      <td>NaN</td>\n",
              "      <td>NaN</td>\n",
              "      <td>NaN</td>\n",
              "      <td>NaN</td>\n",
              "      <td>NaN</td>\n",
              "      <td>NaN</td>\n",
              "      <td>NaN</td>\n",
              "      <td>NaN</td>\n",
              "      <td>133.899994</td>\n",
              "      <td>NaN</td>\n",
              "    </tr>\n",
              "    <tr>\n",
              "      <th>1</th>\n",
              "      <td>2010-01-05</td>\n",
              "      <td>133.429993</td>\n",
              "      <td>135.479996</td>\n",
              "      <td>131.809998</td>\n",
              "      <td>134.690002</td>\n",
              "      <td>8851900</td>\n",
              "      <td>NaN</td>\n",
              "      <td>NaN</td>\n",
              "      <td>NaN</td>\n",
              "      <td>NaN</td>\n",
              "      <td>NaN</td>\n",
              "      <td>NaN</td>\n",
              "      <td>NaN</td>\n",
              "      <td>NaN</td>\n",
              "      <td>NaN</td>\n",
              "      <td>NaN</td>\n",
              "      <td>NaN</td>\n",
              "      <td>NaN</td>\n",
              "      <td>134.690002</td>\n",
              "      <td>NaN</td>\n",
              "    </tr>\n",
              "    <tr>\n",
              "      <th>2</th>\n",
              "      <td>2010-01-06</td>\n",
              "      <td>134.600006</td>\n",
              "      <td>134.729996</td>\n",
              "      <td>131.649994</td>\n",
              "      <td>132.250000</td>\n",
              "      <td>7178800</td>\n",
              "      <td>NaN</td>\n",
              "      <td>NaN</td>\n",
              "      <td>NaN</td>\n",
              "      <td>NaN</td>\n",
              "      <td>NaN</td>\n",
              "      <td>NaN</td>\n",
              "      <td>NaN</td>\n",
              "      <td>NaN</td>\n",
              "      <td>NaN</td>\n",
              "      <td>NaN</td>\n",
              "      <td>NaN</td>\n",
              "      <td>NaN</td>\n",
              "      <td>132.250000</td>\n",
              "      <td>NaN</td>\n",
              "    </tr>\n",
              "    <tr>\n",
              "      <th>3</th>\n",
              "      <td>2010-01-07</td>\n",
              "      <td>132.009995</td>\n",
              "      <td>132.320007</td>\n",
              "      <td>128.800003</td>\n",
              "      <td>130.000000</td>\n",
              "      <td>11030200</td>\n",
              "      <td>NaN</td>\n",
              "      <td>NaN</td>\n",
              "      <td>NaN</td>\n",
              "      <td>NaN</td>\n",
              "      <td>NaN</td>\n",
              "      <td>NaN</td>\n",
              "      <td>NaN</td>\n",
              "      <td>NaN</td>\n",
              "      <td>NaN</td>\n",
              "      <td>NaN</td>\n",
              "      <td>NaN</td>\n",
              "      <td>NaN</td>\n",
              "      <td>130.000000</td>\n",
              "      <td>NaN</td>\n",
              "    </tr>\n",
              "    <tr>\n",
              "      <th>4</th>\n",
              "      <td>2010-01-08</td>\n",
              "      <td>130.559998</td>\n",
              "      <td>133.679993</td>\n",
              "      <td>129.029999</td>\n",
              "      <td>133.520004</td>\n",
              "      <td>9830500</td>\n",
              "      <td>NaN</td>\n",
              "      <td>NaN</td>\n",
              "      <td>NaN</td>\n",
              "      <td>NaN</td>\n",
              "      <td>NaN</td>\n",
              "      <td>NaN</td>\n",
              "      <td>NaN</td>\n",
              "      <td>NaN</td>\n",
              "      <td>NaN</td>\n",
              "      <td>NaN</td>\n",
              "      <td>NaN</td>\n",
              "      <td>NaN</td>\n",
              "      <td>133.520004</td>\n",
              "      <td>NaN</td>\n",
              "    </tr>\n",
              "  </tbody>\n",
              "</table>\n",
              "</div>"
            ],
            "text/plain": [
              "        Date        Open        High  ...  ARIMA       Close  labels\n",
              "0 2010-01-04  136.250000  136.610001  ...    NaN  133.899994     NaN\n",
              "1 2010-01-05  133.429993  135.479996  ...    NaN  134.690002     NaN\n",
              "2 2010-01-06  134.600006  134.729996  ...    NaN  132.250000     NaN\n",
              "3 2010-01-07  132.009995  132.320007  ...    NaN  130.000000     NaN\n",
              "4 2010-01-08  130.559998  133.679993  ...    NaN  133.520004     NaN\n",
              "\n",
              "[5 rows x 20 columns]"
            ]
          },
          "metadata": {
            "tags": []
          },
          "execution_count": 23
        }
      ]
    },
    {
      "cell_type": "code",
      "metadata": {
        "id": "GE-t9QsuKPIv",
        "colab_type": "code",
        "colab": {
          "base_uri": "https://localhost:8080/",
          "height": 320
        },
        "outputId": "e8de0bb0-b342-46f4-f3de-2a6658e22dfe"
      },
      "source": [
        "data.describe()"
      ],
      "execution_count": 24,
      "outputs": [
        {
          "output_type": "execute_result",
          "data": {
            "text/html": [
              "<div>\n",
              "<style scoped>\n",
              "    .dataframe tbody tr th:only-of-type {\n",
              "        vertical-align: middle;\n",
              "    }\n",
              "\n",
              "    .dataframe tbody tr th {\n",
              "        vertical-align: top;\n",
              "    }\n",
              "\n",
              "    .dataframe thead th {\n",
              "        text-align: right;\n",
              "    }\n",
              "</style>\n",
              "<table border=\"1\" class=\"dataframe\">\n",
              "  <thead>\n",
              "    <tr style=\"text-align: right;\">\n",
              "      <th></th>\n",
              "      <th>Open</th>\n",
              "      <th>High</th>\n",
              "      <th>Low</th>\n",
              "      <th>Adj Close</th>\n",
              "      <th>Volume</th>\n",
              "      <th>ma7</th>\n",
              "      <th>ma21</th>\n",
              "      <th>26ema</th>\n",
              "      <th>12ema</th>\n",
              "      <th>MACD</th>\n",
              "      <th>20sd</th>\n",
              "      <th>upper_band</th>\n",
              "      <th>lower_band</th>\n",
              "      <th>ema</th>\n",
              "      <th>momentum</th>\n",
              "      <th>Fourier</th>\n",
              "      <th>ARIMA</th>\n",
              "      <th>Close</th>\n",
              "      <th>labels</th>\n",
              "    </tr>\n",
              "  </thead>\n",
              "  <tbody>\n",
              "    <tr>\n",
              "      <th>count</th>\n",
              "      <td>2265.000000</td>\n",
              "      <td>2265.000000</td>\n",
              "      <td>2265.000000</td>\n",
              "      <td>2265.000000</td>\n",
              "      <td>2.265000e+03</td>\n",
              "      <td>0.0</td>\n",
              "      <td>0.0</td>\n",
              "      <td>0.0</td>\n",
              "      <td>0.0</td>\n",
              "      <td>0.0</td>\n",
              "      <td>0.0</td>\n",
              "      <td>0.0</td>\n",
              "      <td>0.0</td>\n",
              "      <td>0.0</td>\n",
              "      <td>0.0</td>\n",
              "      <td>0.0</td>\n",
              "      <td>0.0</td>\n",
              "      <td>2265.000000</td>\n",
              "      <td>0.0</td>\n",
              "    </tr>\n",
              "    <tr>\n",
              "      <th>mean</th>\n",
              "      <td>553.000949</td>\n",
              "      <td>558.568702</td>\n",
              "      <td>546.430821</td>\n",
              "      <td>552.743179</td>\n",
              "      <td>4.603646e+06</td>\n",
              "      <td>NaN</td>\n",
              "      <td>NaN</td>\n",
              "      <td>NaN</td>\n",
              "      <td>NaN</td>\n",
              "      <td>NaN</td>\n",
              "      <td>NaN</td>\n",
              "      <td>NaN</td>\n",
              "      <td>NaN</td>\n",
              "      <td>NaN</td>\n",
              "      <td>NaN</td>\n",
              "      <td>NaN</td>\n",
              "      <td>NaN</td>\n",
              "      <td>552.743179</td>\n",
              "      <td>NaN</td>\n",
              "    </tr>\n",
              "    <tr>\n",
              "      <th>std</th>\n",
              "      <td>470.155920</td>\n",
              "      <td>474.660681</td>\n",
              "      <td>463.993737</td>\n",
              "      <td>469.357785</td>\n",
              "      <td>2.954860e+06</td>\n",
              "      <td>NaN</td>\n",
              "      <td>NaN</td>\n",
              "      <td>NaN</td>\n",
              "      <td>NaN</td>\n",
              "      <td>NaN</td>\n",
              "      <td>NaN</td>\n",
              "      <td>NaN</td>\n",
              "      <td>NaN</td>\n",
              "      <td>NaN</td>\n",
              "      <td>NaN</td>\n",
              "      <td>NaN</td>\n",
              "      <td>NaN</td>\n",
              "      <td>469.357785</td>\n",
              "      <td>NaN</td>\n",
              "    </tr>\n",
              "    <tr>\n",
              "      <th>min</th>\n",
              "      <td>105.930000</td>\n",
              "      <td>111.290001</td>\n",
              "      <td>105.800003</td>\n",
              "      <td>108.610001</td>\n",
              "      <td>9.844000e+05</td>\n",
              "      <td>NaN</td>\n",
              "      <td>NaN</td>\n",
              "      <td>NaN</td>\n",
              "      <td>NaN</td>\n",
              "      <td>NaN</td>\n",
              "      <td>NaN</td>\n",
              "      <td>NaN</td>\n",
              "      <td>NaN</td>\n",
              "      <td>NaN</td>\n",
              "      <td>NaN</td>\n",
              "      <td>NaN</td>\n",
              "      <td>NaN</td>\n",
              "      <td>108.610001</td>\n",
              "      <td>NaN</td>\n",
              "    </tr>\n",
              "    <tr>\n",
              "      <th>25%</th>\n",
              "      <td>217.649994</td>\n",
              "      <td>219.979996</td>\n",
              "      <td>214.460007</td>\n",
              "      <td>217.830002</td>\n",
              "      <td>2.786500e+06</td>\n",
              "      <td>NaN</td>\n",
              "      <td>NaN</td>\n",
              "      <td>NaN</td>\n",
              "      <td>NaN</td>\n",
              "      <td>NaN</td>\n",
              "      <td>NaN</td>\n",
              "      <td>NaN</td>\n",
              "      <td>NaN</td>\n",
              "      <td>NaN</td>\n",
              "      <td>NaN</td>\n",
              "      <td>NaN</td>\n",
              "      <td>NaN</td>\n",
              "      <td>217.830002</td>\n",
              "      <td>NaN</td>\n",
              "    </tr>\n",
              "    <tr>\n",
              "      <th>50%</th>\n",
              "      <td>334.679993</td>\n",
              "      <td>336.760010</td>\n",
              "      <td>328.940002</td>\n",
              "      <td>332.910004</td>\n",
              "      <td>3.872500e+06</td>\n",
              "      <td>NaN</td>\n",
              "      <td>NaN</td>\n",
              "      <td>NaN</td>\n",
              "      <td>NaN</td>\n",
              "      <td>NaN</td>\n",
              "      <td>NaN</td>\n",
              "      <td>NaN</td>\n",
              "      <td>NaN</td>\n",
              "      <td>NaN</td>\n",
              "      <td>NaN</td>\n",
              "      <td>NaN</td>\n",
              "      <td>NaN</td>\n",
              "      <td>332.910004</td>\n",
              "      <td>NaN</td>\n",
              "    </tr>\n",
              "    <tr>\n",
              "      <th>75%</th>\n",
              "      <td>766.599976</td>\n",
              "      <td>771.219971</td>\n",
              "      <td>761.200012</td>\n",
              "      <td>767.330017</td>\n",
              "      <td>5.425000e+06</td>\n",
              "      <td>NaN</td>\n",
              "      <td>NaN</td>\n",
              "      <td>NaN</td>\n",
              "      <td>NaN</td>\n",
              "      <td>NaN</td>\n",
              "      <td>NaN</td>\n",
              "      <td>NaN</td>\n",
              "      <td>NaN</td>\n",
              "      <td>NaN</td>\n",
              "      <td>NaN</td>\n",
              "      <td>NaN</td>\n",
              "      <td>NaN</td>\n",
              "      <td>767.330017</td>\n",
              "      <td>NaN</td>\n",
              "    </tr>\n",
              "    <tr>\n",
              "      <th>max</th>\n",
              "      <td>2038.109985</td>\n",
              "      <td>2050.500000</td>\n",
              "      <td>2013.000000</td>\n",
              "      <td>2039.510010</td>\n",
              "      <td>4.242110e+07</td>\n",
              "      <td>NaN</td>\n",
              "      <td>NaN</td>\n",
              "      <td>NaN</td>\n",
              "      <td>NaN</td>\n",
              "      <td>NaN</td>\n",
              "      <td>NaN</td>\n",
              "      <td>NaN</td>\n",
              "      <td>NaN</td>\n",
              "      <td>NaN</td>\n",
              "      <td>NaN</td>\n",
              "      <td>NaN</td>\n",
              "      <td>NaN</td>\n",
              "      <td>2039.510010</td>\n",
              "      <td>NaN</td>\n",
              "    </tr>\n",
              "  </tbody>\n",
              "</table>\n",
              "</div>"
            ],
            "text/plain": [
              "              Open         High          Low  ...  ARIMA        Close  labels\n",
              "count  2265.000000  2265.000000  2265.000000  ...    0.0  2265.000000     0.0\n",
              "mean    553.000949   558.568702   546.430821  ...    NaN   552.743179     NaN\n",
              "std     470.155920   474.660681   463.993737  ...    NaN   469.357785     NaN\n",
              "min     105.930000   111.290001   105.800003  ...    NaN   108.610001     NaN\n",
              "25%     217.649994   219.979996   214.460007  ...    NaN   217.830002     NaN\n",
              "50%     334.679993   336.760010   328.940002  ...    NaN   332.910004     NaN\n",
              "75%     766.599976   771.219971   761.200012  ...    NaN   767.330017     NaN\n",
              "max    2038.109985  2050.500000  2013.000000  ...    NaN  2039.510010     NaN\n",
              "\n",
              "[8 rows x 19 columns]"
            ]
          },
          "metadata": {
            "tags": []
          },
          "execution_count": 24
        }
      ]
    },
    {
      "cell_type": "code",
      "metadata": {
        "id": "XtlFXVrcKVYF",
        "colab_type": "code",
        "colab": {
          "base_uri": "https://localhost:8080/",
          "height": 513
        },
        "outputId": "47886603-aae8-4975-dc7a-1d6729610037"
      },
      "source": [
        "data.info()"
      ],
      "execution_count": 25,
      "outputs": [
        {
          "output_type": "stream",
          "text": [
            "<class 'pandas.core.frame.DataFrame'>\n",
            "RangeIndex: 2265 entries, 0 to 2264\n",
            "Data columns (total 20 columns):\n",
            " #   Column      Non-Null Count  Dtype         \n",
            "---  ------      --------------  -----         \n",
            " 0   Date        2265 non-null   datetime64[ns]\n",
            " 1   Open        2265 non-null   float64       \n",
            " 2   High        2265 non-null   float64       \n",
            " 3   Low         2265 non-null   float64       \n",
            " 4   Adj Close   2265 non-null   float64       \n",
            " 5   Volume      2265 non-null   int64         \n",
            " 6   ma7         0 non-null      float64       \n",
            " 7   ma21        0 non-null      float64       \n",
            " 8   26ema       0 non-null      float64       \n",
            " 9   12ema       0 non-null      float64       \n",
            " 10  MACD        0 non-null      float64       \n",
            " 11  20sd        0 non-null      float64       \n",
            " 12  upper_band  0 non-null      float64       \n",
            " 13  lower_band  0 non-null      float64       \n",
            " 14  ema         0 non-null      float64       \n",
            " 15  momentum    0 non-null      float64       \n",
            " 16  Fourier     0 non-null      float64       \n",
            " 17  ARIMA       0 non-null      float64       \n",
            " 18  Close       2265 non-null   float64       \n",
            " 19  labels      0 non-null      float64       \n",
            "dtypes: datetime64[ns](1), float64(18), int64(1)\n",
            "memory usage: 354.0 KB\n"
          ],
          "name": "stdout"
        }
      ]
    },
    {
      "cell_type": "markdown",
      "metadata": {
        "id": "Ne62tOd7Ka1D",
        "colab_type": "text"
      },
      "source": [
        "##Data Preprocessing"
      ]
    },
    {
      "cell_type": "code",
      "metadata": {
        "id": "88PVeKxGKXFe",
        "colab_type": "code",
        "colab": {}
      },
      "source": [
        "from keras.layers.core import Dense, Activation, Dropout\n",
        "from keras.layers.recurrent import LSTM\n",
        "from keras.models import Sequential\n",
        "import time"
      ],
      "execution_count": 26,
      "outputs": []
    },
    {
      "cell_type": "code",
      "metadata": {
        "id": "gmeOlw7cKdwx",
        "colab_type": "code",
        "colab": {}
      },
      "source": [
        "data = data.dropna(axis = \"columns\")"
      ],
      "execution_count": 27,
      "outputs": []
    },
    {
      "cell_type": "code",
      "metadata": {
        "id": "u0kCaKV-KjFI",
        "colab_type": "code",
        "colab": {
          "base_uri": "https://localhost:8080/",
          "height": 206
        },
        "outputId": "5af95cae-241b-4b00-8011-0e432b1e29b0"
      },
      "source": [
        "data.head(5)"
      ],
      "execution_count": 28,
      "outputs": [
        {
          "output_type": "execute_result",
          "data": {
            "text/html": [
              "<div>\n",
              "<style scoped>\n",
              "    .dataframe tbody tr th:only-of-type {\n",
              "        vertical-align: middle;\n",
              "    }\n",
              "\n",
              "    .dataframe tbody tr th {\n",
              "        vertical-align: top;\n",
              "    }\n",
              "\n",
              "    .dataframe thead th {\n",
              "        text-align: right;\n",
              "    }\n",
              "</style>\n",
              "<table border=\"1\" class=\"dataframe\">\n",
              "  <thead>\n",
              "    <tr style=\"text-align: right;\">\n",
              "      <th></th>\n",
              "      <th>Date</th>\n",
              "      <th>Open</th>\n",
              "      <th>High</th>\n",
              "      <th>Low</th>\n",
              "      <th>Adj Close</th>\n",
              "      <th>Volume</th>\n",
              "      <th>Close</th>\n",
              "    </tr>\n",
              "  </thead>\n",
              "  <tbody>\n",
              "    <tr>\n",
              "      <th>0</th>\n",
              "      <td>2010-01-04</td>\n",
              "      <td>136.250000</td>\n",
              "      <td>136.610001</td>\n",
              "      <td>133.139999</td>\n",
              "      <td>133.899994</td>\n",
              "      <td>7599900</td>\n",
              "      <td>133.899994</td>\n",
              "    </tr>\n",
              "    <tr>\n",
              "      <th>1</th>\n",
              "      <td>2010-01-05</td>\n",
              "      <td>133.429993</td>\n",
              "      <td>135.479996</td>\n",
              "      <td>131.809998</td>\n",
              "      <td>134.690002</td>\n",
              "      <td>8851900</td>\n",
              "      <td>134.690002</td>\n",
              "    </tr>\n",
              "    <tr>\n",
              "      <th>2</th>\n",
              "      <td>2010-01-06</td>\n",
              "      <td>134.600006</td>\n",
              "      <td>134.729996</td>\n",
              "      <td>131.649994</td>\n",
              "      <td>132.250000</td>\n",
              "      <td>7178800</td>\n",
              "      <td>132.250000</td>\n",
              "    </tr>\n",
              "    <tr>\n",
              "      <th>3</th>\n",
              "      <td>2010-01-07</td>\n",
              "      <td>132.009995</td>\n",
              "      <td>132.320007</td>\n",
              "      <td>128.800003</td>\n",
              "      <td>130.000000</td>\n",
              "      <td>11030200</td>\n",
              "      <td>130.000000</td>\n",
              "    </tr>\n",
              "    <tr>\n",
              "      <th>4</th>\n",
              "      <td>2010-01-08</td>\n",
              "      <td>130.559998</td>\n",
              "      <td>133.679993</td>\n",
              "      <td>129.029999</td>\n",
              "      <td>133.520004</td>\n",
              "      <td>9830500</td>\n",
              "      <td>133.520004</td>\n",
              "    </tr>\n",
              "  </tbody>\n",
              "</table>\n",
              "</div>"
            ],
            "text/plain": [
              "        Date        Open        High  ...   Adj Close    Volume       Close\n",
              "0 2010-01-04  136.250000  136.610001  ...  133.899994   7599900  133.899994\n",
              "1 2010-01-05  133.429993  135.479996  ...  134.690002   8851900  134.690002\n",
              "2 2010-01-06  134.600006  134.729996  ...  132.250000   7178800  132.250000\n",
              "3 2010-01-07  132.009995  132.320007  ...  130.000000  11030200  130.000000\n",
              "4 2010-01-08  130.559998  133.679993  ...  133.520004   9830500  133.520004\n",
              "\n",
              "[5 rows x 7 columns]"
            ]
          },
          "metadata": {
            "tags": []
          },
          "execution_count": 28
        }
      ]
    },
    {
      "cell_type": "code",
      "metadata": {
        "id": "DQG_U8e8Kkp2",
        "colab_type": "code",
        "colab": {}
      },
      "source": [
        "data_close = data['Close']"
      ],
      "execution_count": 29,
      "outputs": []
    },
    {
      "cell_type": "code",
      "metadata": {
        "id": "H0rEh23OKx8z",
        "colab_type": "code",
        "colab": {
          "base_uri": "https://localhost:8080/",
          "height": 35
        },
        "outputId": "1b77bf36-4579-4850-8612-d7244ad583c8"
      },
      "source": [
        "data_close.shape"
      ],
      "execution_count": 30,
      "outputs": [
        {
          "output_type": "execute_result",
          "data": {
            "text/plain": [
              "(2265,)"
            ]
          },
          "metadata": {
            "tags": []
          },
          "execution_count": 30
        }
      ]
    },
    {
      "cell_type": "code",
      "metadata": {
        "id": "5kUOcTybK0Y9",
        "colab_type": "code",
        "colab": {}
      },
      "source": [
        "data_close = data_close.values.reshape(2265,1)"
      ],
      "execution_count": 31,
      "outputs": []
    },
    {
      "cell_type": "code",
      "metadata": {
        "id": "vxW3mlYcK-pS",
        "colab_type": "code",
        "colab": {
          "base_uri": "https://localhost:8080/",
          "height": 383
        },
        "outputId": "22e0d5c7-ee6f-426c-d9f9-6216e43ba8ec"
      },
      "source": [
        "import matplotlib.pyplot as plt\n",
        "%matplotlib inline\n",
        "plt.style.use('fivethirtyeight')\n",
        "from sklearn.preprocessing import MinMaxScaler\n",
        "\n",
        "plt.figure(figsize=(14, 5))\n",
        "plt.plot(data['Date'], data['Close'], label='Stock Price')\n",
        "plt.xlabel('Date')\n",
        "plt.ylabel('USD')\n",
        "plt.title('Amazon Stock Price Variations')\n",
        "plt.legend(loc='best')\n",
        "plt.show()\n",
        "\n",
        "scaler = MinMaxScaler(feature_range=(0, 1))\n",
        "data_close = scaler.fit_transform(data_close)"
      ],
      "execution_count": 32,
      "outputs": [
        {
          "output_type": "display_data",
          "data": {
            "image/png": "[encoded data removed]",
            "text/plain": [
              "<Figure size 1008x360 with 1 Axes>"
            ]
          },
          "metadata": {
            "tags": []
          }
        }
      ]
    },
    {
      "cell_type": "code",
      "metadata": {
        "id": "5KNMbGzrLP3p",
        "colab_type": "code",
        "colab": {
          "base_uri": "https://localhost:8080/",
          "height": 54
        },
        "outputId": "8afe1d7b-ce6b-4420-92f6-d7b5cc0f34ec"
      },
      "source": [
        "#Training and testing data split\n",
        "train_size = int(len(data_close) * 0.80)\n",
        "test_size = len(data_close) - train_size\n",
        "train, test = data_close[0:train_size,:], data_close[train_size:len(data_close),:]\n",
        "print('Number of training samples:', len(train)) \n",
        "print('Number of testing samples:', len(test))"
      ],
      "execution_count": 36,
      "outputs": [
        {
          "output_type": "stream",
          "text": [
            "Number of training samples: 1812\n",
            "Number of testing samples: 453\n"
          ],
          "name": "stdout"
        }
      ]
    },
    {
      "cell_type": "markdown",
      "metadata": {
        "id": "pTgQ5dROM9Fs",
        "colab_type": "text"
      },
      "source": [
        "##Normalization \n",
        "\n",
        "I will be normalizing the price data, so that they are reduced to normalized values, and it will be helpful in calculating stock price movements."
      ]
    },
    {
      "cell_type": "code",
      "metadata": {
        "id": "Llf-smQqMoUN",
        "colab_type": "code",
        "colab": {}
      },
      "source": [
        "#converting an array of values into a dataset matrix\n",
        "def create_dataset(dataset, look_back=1): #keeping only similar values, and jumping to the next value if values are too far apart\n",
        "\tdataX, dataY = [], []  \n",
        "\tfor i in range(len(dataset)-look_back-1): #dataY holds only output values\n",
        "\t\ta = dataset[i:(i+look_back), 0]\n",
        "\t\tdataX.append(a)\n",
        "\t\tdataY.append(dataset[i + look_back, 0])\n",
        "\treturn np.array(dataX), np.array(dataY)"
      ],
      "execution_count": 37,
      "outputs": []
    },
    {
      "cell_type": "code",
      "metadata": {
        "id": "gJQ-Wz10Nw2l",
        "colab_type": "code",
        "colab": {}
      },
      "source": [
        "#reshaping into X=t and Y=t+1\n",
        "look_back = 1\n",
        "trainX, trainY = create_dataset(train, look_back)\n",
        "testX, testY = create_dataset(test, look_back)"
      ],
      "execution_count": 38,
      "outputs": []
    },
    {
      "cell_type": "code",
      "metadata": {
        "id": "Lfbr0748N1op",
        "colab_type": "code",
        "colab": {}
      },
      "source": [
        "trainX = np.reshape(trainX, (trainX.shape[0], 1, trainX.shape[1]))\n",
        "testX = np.reshape(testX, (testX.shape[0], 1, testX.shape[1]))"
      ],
      "execution_count": 39,
      "outputs": []
    },
    {
      "cell_type": "markdown",
      "metadata": {
        "id": "mXiNxOmnN6T-",
        "colab_type": "text"
      },
      "source": [
        "#Building and compiling the model"
      ]
    },
    {
      "cell_type": "code",
      "metadata": {
        "id": "KQODBGB-OPa5",
        "colab_type": "code",
        "colab": {}
      },
      "source": [
        "import tensorflow as tf\n",
        "from keras.models import Sequential\n",
        "from keras.layers import Dense\n",
        "from keras.layers import LSTM\n",
        "from keras.layers import Dropout\n",
        "from keras.layers import Flatten\n",
        "\n",
        "model = Sequential()\n",
        "model.add(LSTM(units=50, return_sequences=True))\n",
        "model.add(Dropout(0.2))\n",
        "model.add(LSTM(units=100, return_sequences=False))\n",
        "model.add(Dropout(0.2))\n",
        "model.add(Flatten())\n",
        "model.add(Dense(units = 1))\n",
        "model.add(Activation('relu'))\n",
        "model.compile(optimizer = 'rmsprop', loss = 'mean_squared_error', metrics = ['mean_absolute_error'])"
      ],
      "execution_count": 46,
      "outputs": []
    },
    {
      "cell_type": "code",
      "metadata": {
        "id": "S7F6xV6-O9qc",
        "colab_type": "code",
        "colab": {
          "base_uri": "https://localhost:8080/",
          "height": 1000
        },
        "outputId": "15916106-309b-4832-8e9a-7686081905ac"
      },
      "source": [
        "model.fit(\n",
        "    trainX,\n",
        "    trainY,\n",
        "    batch_size=128,\n",
        "    epochs=40,\n",
        "    validation_split=0.05)"
      ],
      "execution_count": 49,
      "outputs": [
        {
          "output_type": "stream",
          "text": [
            "Epoch 1/40\n",
            "14/14 [==============================] - 0s 10ms/step - loss: 1.2005e-04 - mean_absolute_error: 0.0082 - val_loss: 2.6830e-05 - val_mean_absolute_error: 0.0037\n",
            "Epoch 2/40\n",
            "14/14 [==============================] - 0s 7ms/step - loss: 1.3437e-04 - mean_absolute_error: 0.0085 - val_loss: 3.6171e-05 - val_mean_absolute_error: 0.0047\n",
            "Epoch 3/40\n",
            "14/14 [==============================] - 0s 7ms/step - loss: 1.1788e-04 - mean_absolute_error: 0.0079 - val_loss: 7.1534e-05 - val_mean_absolute_error: 0.0074\n",
            "Epoch 4/40\n",
            "14/14 [==============================] - 0s 8ms/step - loss: 1.1745e-04 - mean_absolute_error: 0.0079 - val_loss: 2.6708e-05 - val_mean_absolute_error: 0.0037\n",
            "Epoch 5/40\n",
            "14/14 [==============================] - 0s 9ms/step - loss: 1.1608e-04 - mean_absolute_error: 0.0080 - val_loss: 3.2848e-05 - val_mean_absolute_error: 0.0044\n",
            "Epoch 6/40\n",
            "14/14 [==============================] - 0s 8ms/step - loss: 1.2433e-04 - mean_absolute_error: 0.0082 - val_loss: 6.1140e-05 - val_mean_absolute_error: 0.0068\n",
            "Epoch 7/40\n",
            "14/14 [==============================] - 0s 8ms/step - loss: 1.0035e-04 - mean_absolute_error: 0.0070 - val_loss: 5.0305e-04 - val_mean_absolute_error: 0.0218\n",
            "Epoch 8/40\n",
            "14/14 [==============================] - 0s 8ms/step - loss: 1.1884e-04 - mean_absolute_error: 0.0075 - val_loss: 1.2009e-04 - val_mean_absolute_error: 0.0100\n",
            "Epoch 9/40\n",
            "14/14 [==============================] - 0s 8ms/step - loss: 1.4098e-04 - mean_absolute_error: 0.0089 - val_loss: 1.8889e-04 - val_mean_absolute_error: 0.0128\n",
            "Epoch 10/40\n",
            "14/14 [==============================] - 0s 8ms/step - loss: 1.2018e-04 - mean_absolute_error: 0.0078 - val_loss: 6.9474e-05 - val_mean_absolute_error: 0.0072\n",
            "Epoch 11/40\n",
            "14/14 [==============================] - 0s 7ms/step - loss: 1.2977e-04 - mean_absolute_error: 0.0082 - val_loss: 1.2144e-04 - val_mean_absolute_error: 0.0100\n",
            "Epoch 12/40\n",
            "14/14 [==============================] - 0s 7ms/step - loss: 1.3887e-04 - mean_absolute_error: 0.0085 - val_loss: 7.6175e-05 - val_mean_absolute_error: 0.0076\n",
            "Epoch 13/40\n",
            "14/14 [==============================] - 0s 8ms/step - loss: 1.1771e-04 - mean_absolute_error: 0.0078 - val_loss: 1.0146e-04 - val_mean_absolute_error: 0.0090\n",
            "Epoch 14/40\n",
            "14/14 [==============================] - 0s 8ms/step - loss: 1.4137e-04 - mean_absolute_error: 0.0088 - val_loss: 4.0225e-05 - val_mean_absolute_error: 0.0050\n",
            "Epoch 15/40\n",
            "14/14 [==============================] - 0s 7ms/step - loss: 1.1033e-04 - mean_absolute_error: 0.0076 - val_loss: 9.3004e-05 - val_mean_absolute_error: 0.0086\n",
            "Epoch 16/40\n",
            "14/14 [==============================] - 0s 7ms/step - loss: 1.1062e-04 - mean_absolute_error: 0.0076 - val_loss: 7.2079e-05 - val_mean_absolute_error: 0.0073\n",
            "Epoch 17/40\n",
            "14/14 [==============================] - 0s 8ms/step - loss: 1.1872e-04 - mean_absolute_error: 0.0080 - val_loss: 2.9693e-05 - val_mean_absolute_error: 0.0041\n",
            "Epoch 18/40\n",
            "14/14 [==============================] - 0s 7ms/step - loss: 1.2865e-04 - mean_absolute_error: 0.0083 - val_loss: 1.5578e-04 - val_mean_absolute_error: 0.0116\n",
            "Epoch 19/40\n",
            "14/14 [==============================] - 0s 7ms/step - loss: 1.0960e-04 - mean_absolute_error: 0.0076 - val_loss: 4.2734e-05 - val_mean_absolute_error: 0.0052\n",
            "Epoch 20/40\n",
            "14/14 [==============================] - 0s 7ms/step - loss: 1.1665e-04 - mean_absolute_error: 0.0080 - val_loss: 4.4122e-05 - val_mean_absolute_error: 0.0053\n",
            "Epoch 21/40\n",
            "14/14 [==============================] - 0s 7ms/step - loss: 1.2967e-04 - mean_absolute_error: 0.0082 - val_loss: 9.3756e-05 - val_mean_absolute_error: 0.0086\n",
            "Epoch 22/40\n",
            "14/14 [==============================] - 0s 10ms/step - loss: 1.1771e-04 - mean_absolute_error: 0.0081 - val_loss: 3.1045e-05 - val_mean_absolute_error: 0.0042\n",
            "Epoch 23/40\n",
            "14/14 [==============================] - 0s 8ms/step - loss: 1.1621e-04 - mean_absolute_error: 0.0077 - val_loss: 5.4975e-05 - val_mean_absolute_error: 0.0063\n",
            "Epoch 24/40\n",
            "14/14 [==============================] - 0s 7ms/step - loss: 1.2548e-04 - mean_absolute_error: 0.0081 - val_loss: 3.1145e-05 - val_mean_absolute_error: 0.0042\n",
            "Epoch 25/40\n",
            "14/14 [==============================] - 0s 7ms/step - loss: 9.0037e-05 - mean_absolute_error: 0.0067 - val_loss: 6.1696e-04 - val_mean_absolute_error: 0.0243\n",
            "Epoch 26/40\n",
            "14/14 [==============================] - 0s 8ms/step - loss: 1.3575e-04 - mean_absolute_error: 0.0084 - val_loss: 1.4092e-04 - val_mean_absolute_error: 0.0109\n",
            "Epoch 27/40\n",
            "14/14 [==============================] - 0s 8ms/step - loss: 1.1127e-04 - mean_absolute_error: 0.0075 - val_loss: 2.9741e-05 - val_mean_absolute_error: 0.0040\n",
            "Epoch 28/40\n",
            "14/14 [==============================] - 0s 7ms/step - loss: 1.1388e-04 - mean_absolute_error: 0.0079 - val_loss: 2.2735e-04 - val_mean_absolute_error: 0.0142\n",
            "Epoch 29/40\n",
            "14/14 [==============================] - 0s 7ms/step - loss: 1.1532e-04 - mean_absolute_error: 0.0075 - val_loss: 5.1026e-05 - val_mean_absolute_error: 0.0060\n",
            "Epoch 30/40\n",
            "14/14 [==============================] - 0s 10ms/step - loss: 1.1556e-04 - mean_absolute_error: 0.0079 - val_loss: 5.3382e-05 - val_mean_absolute_error: 0.0061\n",
            "Epoch 31/40\n",
            "14/14 [==============================] - 0s 9ms/step - loss: 1.1540e-04 - mean_absolute_error: 0.0079 - val_loss: 4.2252e-04 - val_mean_absolute_error: 0.0199\n",
            "Epoch 32/40\n",
            "14/14 [==============================] - 0s 8ms/step - loss: 1.0507e-04 - mean_absolute_error: 0.0076 - val_loss: 2.8464e-04 - val_mean_absolute_error: 0.0161\n",
            "Epoch 33/40\n",
            "14/14 [==============================] - 0s 8ms/step - loss: 1.2417e-04 - mean_absolute_error: 0.0079 - val_loss: 3.8713e-05 - val_mean_absolute_error: 0.0049\n",
            "Epoch 34/40\n",
            "14/14 [==============================] - 0s 8ms/step - loss: 1.2291e-04 - mean_absolute_error: 0.0082 - val_loss: 2.0308e-04 - val_mean_absolute_error: 0.0134\n",
            "Epoch 35/40\n",
            "14/14 [==============================] - 0s 7ms/step - loss: 1.0954e-04 - mean_absolute_error: 0.0076 - val_loss: 9.8986e-05 - val_mean_absolute_error: 0.0090\n",
            "Epoch 36/40\n",
            "14/14 [==============================] - 0s 7ms/step - loss: 1.1935e-04 - mean_absolute_error: 0.0080 - val_loss: 1.6591e-04 - val_mean_absolute_error: 0.0120\n",
            "Epoch 37/40\n",
            "14/14 [==============================] - 0s 7ms/step - loss: 1.0480e-04 - mean_absolute_error: 0.0075 - val_loss: 4.6469e-05 - val_mean_absolute_error: 0.0055\n",
            "Epoch 38/40\n",
            "14/14 [==============================] - 0s 7ms/step - loss: 1.1546e-04 - mean_absolute_error: 0.0077 - val_loss: 3.2906e-05 - val_mean_absolute_error: 0.0043\n",
            "Epoch 39/40\n",
            "14/14 [==============================] - 0s 8ms/step - loss: 1.0759e-04 - mean_absolute_error: 0.0077 - val_loss: 7.8567e-04 - val_mean_absolute_error: 0.0275\n",
            "Epoch 40/40\n",
            "14/14 [==============================] - 0s 7ms/step - loss: 1.1000e-04 - mean_absolute_error: 0.0072 - val_loss: 2.5896e-04 - val_mean_absolute_error: 0.0153\n"
          ],
          "name": "stdout"
        },
        {
          "output_type": "execute_result",
          "data": {
            "text/plain": [
              "<tensorflow.python.keras.callbacks.History at 0x7f3ca6519518>"
            ]
          },
          "metadata": {
            "tags": []
          },
          "execution_count": 49
        }
      ]
    },
    {
      "cell_type": "markdown",
      "metadata": {
        "id": "JsEtlBw2QfG3",
        "colab_type": "text"
      },
      "source": [
        "We obtain a MAE of 0.0072 and a validation MAE of 0.0153"
      ]
    },
    {
      "cell_type": "markdown",
      "metadata": {
        "id": "0Sc1jbySQyYH",
        "colab_type": "text"
      },
      "source": [
        "#Final Predictions and Evaluation"
      ]
    },
    {
      "cell_type": "code",
      "metadata": {
        "id": "b3R0kvAZQEWd",
        "colab_type": "code",
        "colab": {
          "base_uri": "https://localhost:8080/",
          "height": 304
        },
        "outputId": "b839fdf9-68be-4e53-9749-97620bea1657"
      },
      "source": [
        "import matplotlib.pyplot as plt\n",
        "predicted_stateful = model.predict(testX)\n",
        "plt.plot(testY, color = 'red',label = 'Actual Closing Prices')\n",
        "plt.plot(predicted_stateful.flatten(), color = 'blue', label  = 'Predicted closing Prices')\n",
        "plt.xlabel('Days')\n",
        "plt.ylabel('Normalised Prices')\n",
        "plt.legend(loc='best')\n",
        "plt.show()"
      ],
      "execution_count": 50,
      "outputs": [
        {
          "output_type": "display_data",
          "data": {
            "image/png": "[encoded data removed]",
            "text/plain": [
              "<Figure size 432x288 with 1 Axes>"
            ]
          },
          "metadata": {
            "tags": []
          }
        }
      ]
    },
    {
      "cell_type": "code",
      "metadata": {
        "id": "R3Dlye2NQcu3",
        "colab_type": "code",
        "colab": {
          "base_uri": "https://localhost:8080/",
          "height": 35
        },
        "outputId": "b56dff7e-68b1-416b-a92c-90062386bb82"
      },
      "source": [
        "mae = model.evaluate(trainX,\n",
        "    trainY,\n",
        "    batch_size=128,verbose=1)"
      ],
      "execution_count": 51,
      "outputs": [
        {
          "output_type": "stream",
          "text": [
            "15/15 [==============================] - 0s 3ms/step - loss: 9.8897e-05 - mean_absolute_error: 0.0089\n"
          ],
          "name": "stdout"
        }
      ]
    },
    {
      "cell_type": "markdown",
      "metadata": {
        "id": "Ka32147dROjM",
        "colab_type": "text"
      },
      "source": [
        "#Conclusion"
      ]
    },
    {
      "cell_type": "markdown",
      "metadata": {
        "id": "EnHJ56MuRTSV",
        "colab_type": "text"
      },
      "source": [
        "Clearly, LSTMs work well to predict Closing Prices when we normalize the prices and predict the Stock Price movement, rather than just using OHLC values.\n",
        "\n",
        "Now further, I will be using LSTMs to p"
      ]
    }
  ]
}